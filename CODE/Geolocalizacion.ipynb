{
 "cells": [
  {
   "cell_type": "code",
   "execution_count": 1,
   "id": "de1203b4",
   "metadata": {},
   "outputs": [],
   "source": [
    "#pip install requests"
   ]
  },
  {
   "cell_type": "code",
   "execution_count": 2,
   "id": "f6550cf5",
   "metadata": {},
   "outputs": [],
   "source": [
    "import requests"
   ]
  },
  {
   "cell_type": "code",
   "execution_count": 12,
   "id": "163ae8e3",
   "metadata": {},
   "outputs": [
    {
     "name": "stdout",
     "output_type": "stream",
     "text": [
      "IP: 2.136.116.82\n",
      "Country: Spain\n",
      "Region: Madrid\n",
      "City: Madrid\n",
      "Latitude: 40.4163\n",
      "Longitude: -3.6934\n"
     ]
    }
   ],
   "source": [
    "# IP address to lookup\n",
    "ip_address = '2.136.116.82'\n",
    "\n",
    "# Make a GET request to the IP geolocation API\n",
    "response = requests.get(f'https://ipapi.co/2.136.116.82/json/')\n",
    "\n",
    "if response.status_code == 200:\n",
    "    # Parse the JSON response\n",
    "    data = response.json()\n",
    "\n",
    "    # Extract the location information\n",
    "    country = data['country_name']\n",
    "    region = data['region']\n",
    "    city = data['city']\n",
    "    latitude = data['latitude']\n",
    "    longitude = data['longitude']\n",
    "\n",
    "    # Print the location information\n",
    "    print(f'IP: {ip_address}')\n",
    "    print(f'Country: {country}')\n",
    "    print(f'Region: {region}')\n",
    "    print(f'City: {city}')\n",
    "    print(f'Latitude: {latitude}')\n",
    "    print(f'Longitude: {longitude}')\n",
    "\n",
    "else:\n",
    "    print('Unable to retrieve location information.')"
   ]
  },
  {
   "cell_type": "code",
   "execution_count": null,
   "id": "e9537f8a",
   "metadata": {},
   "outputs": [],
   "source": []
  },
  {
   "cell_type": "code",
   "execution_count": null,
   "id": "d3aa8d34",
   "metadata": {},
   "outputs": [],
   "source": []
  }
 ],
 "metadata": {
  "kernelspec": {
   "display_name": "Python 3 (ipykernel)",
   "language": "python",
   "name": "python3"
  },
  "language_info": {
   "codemirror_mode": {
    "name": "ipython",
    "version": 3
   },
   "file_extension": ".py",
   "mimetype": "text/x-python",
   "name": "python",
   "nbconvert_exporter": "python",
   "pygments_lexer": "ipython3",
   "version": "3.9.13"
  }
 },
 "nbformat": 4,
 "nbformat_minor": 5
}
