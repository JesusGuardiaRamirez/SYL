{
 "cells": [
  {
   "cell_type": "code",
   "execution_count": 19,
   "id": "eae67443",
   "metadata": {},
   "outputs": [
    {
     "name": "stdout",
     "output_type": "stream",
     "text": [
      "Requirement already satisfied: soundfile in /opt/anaconda3/lib/python3.9/site-packages (0.12.1)\n",
      "Requirement already satisfied: cffi>=1.0 in /opt/anaconda3/lib/python3.9/site-packages (from soundfile) (1.15.1)\n",
      "Requirement already satisfied: pycparser in /opt/anaconda3/lib/python3.9/site-packages (from cffi>=1.0->soundfile) (2.21)\n",
      "Note: you may need to restart the kernel to use updated packages.\n"
     ]
    }
   ],
   "source": [
    "#pip install SpeechRecognition  -  Reconocimiento de voz\n",
    "#%pip install pyaudio\n",
    "#%pip install sounddevice\n",
    "#%pip install pydub\n",
    "%pip install soundfile"
   ]
  },
  {
   "cell_type": "code",
   "execution_count": 35,
   "id": "21e0f729",
   "metadata": {},
   "outputs": [],
   "source": [
    "import sounddevice as sd\n",
    "import soundfile as sf\n",
    "import numpy as np\n",
    "import speech_recognition as sr\n",
    "import time"
   ]
  },
  {
   "cell_type": "code",
   "execution_count": 26,
   "id": "6d39be12",
   "metadata": {},
   "outputs": [
    {
     "name": "stderr",
     "output_type": "stream",
     "text": [
      "Exception ignored from cffi callback <function _StreamBase.__init__.<locals>.callback_ptr at 0x7fb2a30a74c0>:\n",
      "Traceback (most recent call last):\n",
      "  File \"/opt/anaconda3/lib/python3.9/site-packages/sounddevice.py\", line 846, in callback_ptr\n",
      "    return _wrap_callback(callback, data, frames, time, status)\n",
      "  File \"/opt/anaconda3/lib/python3.9/site-packages/sounddevice.py\", line 2687, in _wrap_callback\n",
      "    callback(*args)\n",
      "  File \"/var/folders/01/zww_crzn3psd0rg9b2smfcgh0000gn/T/ipykernel_54029/3689710782.py\", line 11, in callback\n",
      "AttributeError: 'int' object has no attribute 'append'\n"
     ]
    },
    {
     "name": "stdout",
     "output_type": "stream",
     "text": [
      "Recording started. Press Ctrl+C to stop...\n",
      "No audio recorded.\n"
     ]
    }
   ],
   "source": [
    "# Configuration parameters\n",
    "duration = 45  # Duration of the conversation in seconds\n",
    "sample_rate = 44100  # Sample rate in Hz\n",
    "channels = 2  # Number of audio channels (stereo)\n",
    "\n",
    "# Create an empty list to store the recorded audio frames\n",
    "frames = []\n",
    "\n",
    "# Define the callback function to receive the audio frames\n",
    "def callback(indata, frames, time, status):\n",
    "    frames.append(indata.copy())\n",
    "\n",
    "# Start recording audio from the default input device\n",
    "recording = sd.InputStream(callback=callback, channels=channels, samplerate=sample_rate)\n",
    "recording.start()\n",
    "\n",
    "print(\"Recording started. Press Ctrl+C to stop...\")\n",
    "\n",
    "try:\n",
    "    # Keep recording until the desired duration is reached\n",
    "    sd.sleep(int(duration * 1000))  # Convert duration to milliseconds\n",
    "\n",
    "except KeyboardInterrupt:\n",
    "    # Recording stopped by the user\n",
    "    pass\n",
    "\n",
    "finally:\n",
    "    # Stop recording and close the audio stream\n",
    "    recording.stop()\n",
    "    recording.close()\n",
    "\n",
    "# Check if there are recorded audio frames\n",
    "if len(frames) > 0:\n",
    "    # Concatenate the recorded audio frames into a single numpy array\n",
    "    audio_data = np.concatenate(frames)\n",
    "\n",
    "    # Write the audio data to a WAV file\n",
    "    file_name = \"conversation.wav\"\n",
    "    sf.write(file_name, audio_data, sample_rate)\n",
    "\n",
    "    print(\"Recording saved to\", file_name)\n",
    "else:\n",
    "    print(\"No audio recorded.\")"
   ]
  },
  {
   "cell_type": "code",
   "execution_count": 37,
   "id": "9bee80b5",
   "metadata": {},
   "outputs": [
    {
     "name": "stderr",
     "output_type": "stream",
     "text": [
      "Exception ignored from cffi callback <function _StreamBase.__init__.<locals>.callback_ptr at 0x7fb2a30b8550>:\n",
      "Traceback (most recent call last):\n",
      "  File \"/opt/anaconda3/lib/python3.9/site-packages/sounddevice.py\", line 846, in callback_ptr\n",
      "    return _wrap_callback(callback, data, frames, time, status)\n",
      "  File \"/opt/anaconda3/lib/python3.9/site-packages/sounddevice.py\", line 2687, in _wrap_callback\n",
      "    callback(*args)\n",
      "  File \"/var/folders/01/zww_crzn3psd0rg9b2smfcgh0000gn/T/ipykernel_54029/2136120081.py\", line 11, in callback\n",
      "AttributeError: 'int' object has no attribute 'append'\n"
     ]
    },
    {
     "name": "stdout",
     "output_type": "stream",
     "text": [
      "Recording started. Press Ctrl+C to stop...\n",
      "No audio recorded.\n"
     ]
    }
   ],
   "source": [
    "# Configuration parameters\n",
    "duration = 45  # Duration of the conversation in seconds\n",
    "sample_rate = 44100  # Sample rate in Hz\n",
    "channels = 2  # Number of audio channels (stereo)\n",
    "\n",
    "# Create an empty list to store the recorded audio frames\n",
    "frames = []\n",
    "\n",
    "# Define the callback function to receive the audio frames\n",
    "def callback(indata, frames, time, status):\n",
    "    frames.append(indata.copy())\n",
    "\n",
    "# Start recording audio from the default input device\n",
    "recording = sd.InputStream(callback=callback, channels=channels, samplerate=sample_rate)\n",
    "recording.start()\n",
    "\n",
    "print(\"Recording started. Press Ctrl+C to stop...\")\n",
    "\n",
    "try:\n",
    "    # Continue recording until the desired duration is reached\n",
    "    start_time = time.time()\n",
    "    while time.time() - start_time < duration:\n",
    "        pass\n",
    "\n",
    "except KeyboardInterrupt:\n",
    "    # Recording stopped by the user\n",
    "    pass\n",
    "\n",
    "finally:\n",
    "    # Stop recording and close the audio stream\n",
    "    recording.stop()\n",
    "    recording.close()\n",
    "\n",
    "# Check if there are recorded audio frames\n",
    "if len(frames) > 0:\n",
    "    # Concatenate the recorded audio frames into a single numpy array\n",
    "    audio_data = np.concatenate(frames)\n",
    "\n",
    "    # Convert audio data to a string using speech recognition\n",
    "    recognizer = sr.Recognizer()\n",
    "    audio = sr.AudioData(audio_data.tobytes(), sample_rate=sample_rate, sample_width=2)  # Create an AudioData object\n",
    "    text = recognizer.recognize_google(audio)  # Convert speech to text\n",
    "\n",
    "    print(\"Conversation:\", text)\n",
    "else:\n",
    "    print(\"No audio recorded.\")"
   ]
  },
  {
   "cell_type": "code",
   "execution_count": null,
   "id": "ee099905",
   "metadata": {},
   "outputs": [],
   "source": []
  },
  {
   "cell_type": "code",
   "execution_count": null,
   "id": "96f3c31c",
   "metadata": {},
   "outputs": [],
   "source": []
  }
 ],
 "metadata": {
  "kernelspec": {
   "display_name": "Python 3 (ipykernel)",
   "language": "python",
   "name": "python3"
  },
  "language_info": {
   "codemirror_mode": {
    "name": "ipython",
    "version": 3
   },
   "file_extension": ".py",
   "mimetype": "text/x-python",
   "name": "python",
   "nbconvert_exporter": "python",
   "pygments_lexer": "ipython3",
   "version": "3.9.13"
  }
 },
 "nbformat": 4,
 "nbformat_minor": 5
}
